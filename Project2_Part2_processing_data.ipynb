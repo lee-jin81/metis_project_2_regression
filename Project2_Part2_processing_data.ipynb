{
 "cells": [
  {
   "cell_type": "markdown",
   "id": "8b6dc788",
   "metadata": {},
   "source": [
    "# Extract features from html"
   ]
  },
  {
   "cell_type": "code",
   "execution_count": 33,
   "id": "957932df",
   "metadata": {},
   "outputs": [],
   "source": [
    "import requests, bs4\n",
    "from bs4 import BeautifulSoup as bs\n",
    "import json\n",
    "import re\n",
    "import time\n",
    "import random\n",
    "import pandas as pd\n",
    "import pickle \n",
    "import numpy as np"
   ]
  },
  {
   "cell_type": "markdown",
   "id": "2d87c69a",
   "metadata": {},
   "source": [
    "### Feautures to extract from html\n",
    "* Predictor: Rating value --`rating_val`\n",
    "* Brand --`brand`\n",
    "1. number of reviews -- `review_count\t`\n",
    "2. product name -- `productName` -- after scraping find `wordCount_name`\n",
    "3. product description word count -- `wordCount_descr`\n",
    "4. price (USD) -- `price_USD`\n",
    "5. size(volume) -- `size`\n",
    "6. length of ingredients list -- `len_ingredients`\n",
    "7. Number of benefits (count bullet points) -- `benefits_count`\n",
    "8. Number of key Ingredients (count bullet points) -- `key_ingredients`\n",
    "9. count of made_without_list (Formulated without) --`clean_formula`\n",
    "10. count of Clinical Results --`clinical`\n",
    "\n",
    "Feautures after scraping\n",
    "\n",
    "12. Price per oz \n",
    "13. key_ingredients/len_ingredients (%). Is the product packed with key ingr or fillers?"
   ]
  },
  {
   "cell_type": "markdown",
   "id": "01830459",
   "metadata": {},
   "source": [
    "## 1. Load pickle file and parse with BeautifulSoup"
   ]
  },
  {
   "cell_type": "code",
   "execution_count": 2,
   "id": "f2dd4db4",
   "metadata": {},
   "outputs": [],
   "source": [
    "def create_soup(pickle_file_name):\n",
    "    with open(pickle_file_name, \"rb\") as f:\n",
    "        file = pickle.load(f)\n",
    "    \n",
    "    soup_list = []\n",
    "    for page in file:\n",
    "        soup = bs(page.text)\n",
    "        soup_list.append(soup)\n",
    "    return soup_list"
   ]
  },
  {
   "cell_type": "markdown",
   "id": "8568fe87",
   "metadata": {},
   "source": [
    "### 1a. moisturizers"
   ]
  },
  {
   "cell_type": "code",
   "execution_count": 3,
   "id": "59b9eee6",
   "metadata": {},
   "outputs": [],
   "source": [
    "pickle_files_list = (['Number_1_10.pickle',\n",
    "                      'Number_11_20.pickle',\n",
    "                      'Number_21_80.pickle',\n",
    "                      'Number_81_200.pickle',\n",
    "                      'Number_201_400.pickle',\n",
    "                      'Number_401_1000.pickle',\n",
    "                      'Number_1001_end.pickle'])"
   ]
  },
  {
   "cell_type": "code",
   "execution_count": 4,
   "id": "e61a65de",
   "metadata": {},
   "outputs": [],
   "source": [
    "moisturizer_soup = []\n",
    "for name in pickle_files_list:\n",
    "    output_list = create_soup(name)\n",
    "    moisturizer_soup.extend(output_list)"
   ]
  },
  {
   "cell_type": "code",
   "execution_count": 5,
   "id": "7dc8d5ab",
   "metadata": {},
   "outputs": [
    {
     "data": {
      "text/plain": [
       "1349"
      ]
     },
     "execution_count": 5,
     "metadata": {},
     "output_type": "execute_result"
    }
   ],
   "source": [
    "#1349\n",
    "len(moisturizer_soup)"
   ]
  },
  {
   "cell_type": "code",
   "execution_count": 6,
   "id": "13af8504",
   "metadata": {},
   "outputs": [],
   "source": [
    "# to find the product name \n",
    "def find_name(idx):\n",
    "    name = moisturizer_soup[idx].find('div', class_=\"ProductMainSection__productName\").text\n",
    "    return name"
   ]
  },
  {
   "cell_type": "markdown",
   "id": "3c121b5d",
   "metadata": {},
   "source": [
    "### 1B: load pickle of face serums"
   ]
  },
  {
   "cell_type": "code",
   "execution_count": 7,
   "id": "631348e5",
   "metadata": {},
   "outputs": [],
   "source": [
    "serum_pickles = (['face_page.pickle',\n",
    "                 'face_page2_150.pickle',\n",
    "                 'face_page2_300.pickle',\n",
    "                 'face_page2_end.pickle'])"
   ]
  },
  {
   "cell_type": "code",
   "execution_count": 8,
   "id": "442c4c74",
   "metadata": {},
   "outputs": [],
   "source": [
    "serum_soup = []\n",
    "for name in serum_pickles:\n",
    "    output_list = create_soup(name)\n",
    "    serum_soup.extend(output_list)"
   ]
  },
  {
   "cell_type": "code",
   "execution_count": 9,
   "id": "694a96a1",
   "metadata": {},
   "outputs": [
    {
     "data": {
      "text/plain": [
       "557"
      ]
     },
     "execution_count": 9,
     "metadata": {},
     "output_type": "execute_result"
    }
   ],
   "source": [
    "#557\n",
    "len(serum_soup)"
   ]
  },
  {
   "cell_type": "markdown",
   "id": "6cbe0a7f",
   "metadata": {},
   "source": [
    "## 2. Extract features "
   ]
  },
  {
   "cell_type": "markdown",
   "id": "ec801fb7",
   "metadata": {},
   "source": [
    "### I. Product detail"
   ]
  },
  {
   "cell_type": "markdown",
   "id": "b421cc30",
   "metadata": {},
   "source": [
    "Features to extract\n",
    "* Predictor: Rating value --`rating_val`\n",
    "* Brand --`brand`\n",
    "1. number of reviews -- `review_count\t`\n",
    "2. product name -- `productName` -- after scraping find `wordCount_name`\n",
    "3. product description word count -- `wordCount_descr`\n",
    "4. price (USD) -- `price_USD`\n",
    "\n",
    "Note:\n",
    "* `rating_val` and `review_count` missing for products\n",
    "* These products will be dropped in EDA part"
   ]
  },
  {
   "cell_type": "code",
   "execution_count": 10,
   "id": "7614607f",
   "metadata": {},
   "outputs": [],
   "source": [
    "# find product detail from url \n",
    "def productDetail(soup_product):\n",
    "    \n",
    "    detail_tag = (soup_product.find(class_ = 'ProductDetail__wrapper')\n",
    "          .find('script', type=\"application/ld+json\"))\n",
    "    \n",
    "    # convert detail_tag to string type to parse with json\n",
    "    # returns review in dict\n",
    "    detail_json = json.loads(detail_tag.text) \n",
    "    \n",
    "    if 'aggregateRating' in detail_json:\n",
    "        rating_val = detail_json['aggregateRating']['ratingValue']\n",
    "        review_count = detail_json['aggregateRating']['reviewCount'] \n",
    "    else:\n",
    "        rating_val = None\n",
    "        review_count = None\n",
    "\n",
    "    wordCount_descr = len(detail_json['description'].split(' '))\n",
    "    brand = detail_json['brand'].lower()\n",
    "    productName = detail_json['name'].lower()\n",
    "    price_USD = detail_json['offers']['price']\n",
    "    \n",
    "    return brand, productName, rating_val, review_count, wordCount_descr, price_USD"
   ]
  },
  {
   "cell_type": "markdown",
   "id": "9e73e0c9",
   "metadata": {},
   "source": [
    "### II. Product size\n",
    "5. Product size - `size`\n",
    "\n",
    "Note: \n",
    "* drop products that don't have a size, they are part of a bundle\n",
    "https://www.ulta.com/p/glow-starts-here-bestselling-skin-essentials-kit-pimprod2024933\n",
    "* some products don't have the size listed, but should have one, what should we do?\n",
    "https://www.ulta.com/p/maracuja-tinted-moisturizer-pimprod2014942"
   ]
  },
  {
   "cell_type": "code",
   "execution_count": 11,
   "id": "b64ba1ef",
   "metadata": {},
   "outputs": [],
   "source": [
    "def product_size(soup_product):\n",
    "\n",
    "    # change make sure we are extracting Size \n",
    "    main_section = soup_product.find('div', class_=\"ProductMainSection__itemNumber\").text\n",
    "    \n",
    "    # size is in the main section \n",
    "    if 'Size' in main_section:\n",
    "        size = main_section.split('|')[0]\n",
    "    \n",
    "    # size is in another section called color_panel\n",
    "    elif soup_product.find(class_ = 'ProductDetail__colorPanel') != None: \n",
    "        options_tag = soup_product.find(class_ = 'ProductDetail__colorPanel')\n",
    "        size_loc = list(options_tag.children)[0].text\n",
    "        \n",
    "        if 'Size' in size_loc:\n",
    "            size = (options_tag\n",
    "                         .find(class_ = \"Text Text--body-2 Text--left Text--small\").text)\n",
    "            \n",
    "        #size is not her \n",
    "        else:\n",
    "            size = 'NaN'\n",
    "    \n",
    "    # product has no size information\n",
    "    else:\n",
    "        size = 'NaN'\n",
    "        \n",
    "    return size"
   ]
  },
  {
   "cell_type": "markdown",
   "id": "556ec35d",
   "metadata": {},
   "source": [
    "### III. Ingredients list\n",
    "6. length of ingredients list -- `len_ingredients`\n",
    "\n",
    "Note: products where `len_ingredients` is `None` are missing an Ingredients list"
   ]
  },
  {
   "cell_type": "code",
   "execution_count": 12,
   "id": "f982ce12",
   "metadata": {},
   "outputs": [],
   "source": [
    "# return the count of the ingredients list\n",
    "def ingredients_info(soup_product):\n",
    "    try:\n",
    "        ingredients_tag = (soup_product.find('div', class_=\"ProductDetail__ingredients\")\n",
    "                       .find('div', class_=\"ProductDetail__productContent\"))\n",
    "        ingredients_child = list(ingredients_tag.children)\n",
    "    except:\n",
    "        return 'none', None, None\n",
    "    \n",
    "    # on type of ingredients followed by <br>\n",
    "    if len(ingredients_child) <= 2:\n",
    "        ingredients_1 = ingredients_child[0].text.lower()\n",
    "        ingredients_list = ingredients_1.split(',')\n",
    "        active_ingredients = ingredients_list[:7]\n",
    "        \n",
    "    # when ingredients list has 2 types\n",
    "    # 'Active' - child[0], break line <br> - child[1], Inactive - child[2]\n",
    "    else:     \n",
    "        ingredients_1 = ingredients_child[0].text.lower()\n",
    "        ingredients_2 = ingredients_child[2].text.lower()\n",
    "        ingredients_list_1 = ingredients_1.split(',')\n",
    "        ingredients_list_2 = ingredients_2.split(',')\n",
    "        ingredients_list = ingredients_list_1 + ingredients_list_2\n",
    "        active_ingredients = ingredients_list[:7]\n",
    "\n",
    "    return ingredients_list, len(ingredients_list), len(active_ingredients)"
   ]
  },
  {
   "cell_type": "markdown",
   "id": "8fcdcde9",
   "metadata": {},
   "source": [
    "### III Details\n",
    "\n",
    "7. Number of benefits (count bullet points) -- `benefits_count`\n",
    "8. Number of key Ingredients (count bullet points) -- `key_ingredients`\n",
    "9. count of made_without_list (Formulated without) --`clean_formula`\n",
    "10. count of Clinical Results --`clinical`"
   ]
  },
  {
   "cell_type": "code",
   "execution_count": 13,
   "id": "b2cc7f9a",
   "metadata": {},
   "outputs": [],
   "source": [
    "# count how many times the li tag appears in the ul tag (unsorted list)\n",
    "def count_li_tag(ul_tag):\n",
    "    count = 0\n",
    "    for child in list(ul_tag.children):\n",
    "        if child.name == \"li\":\n",
    "            count += 1\n",
    "    return count\n",
    "\n",
    "# count bullet points in details \n",
    "def details_count(soup_product):\n",
    "    details_tag = soup_product.find('div', class_=\"ProductDetail__productContent\")\n",
    "    benefits_count = None\n",
    "    key_ingredients = None\n",
    "    clean_formula = None\n",
    "    clinical = None \n",
    "    \n",
    "    mode = \"tag_search\"\n",
    "    tagSearch = \"tag_search\"\n",
    "    benefits_ul_tag = \"benefits_ul\"\n",
    "    ingredients_ul_tag = \"ingredients_ul\"\n",
    "    formulated_ul_tag = \"formulated_ul\"\n",
    "    clinical_ul_tag = \"clinical_ul\"\n",
    "    \n",
    "    for detail_child in list(details_tag.children):\n",
    "        if mode == tagSearch:\n",
    "            if detail_child.text.strip() == \"Benefits\":\n",
    "                mode = benefits_ul_tag\n",
    "                continue\n",
    "            elif detail_child.text.strip() == \"Key Ingredients\":\n",
    "                mode = ingredients_ul_tag\n",
    "                continue\n",
    "            elif detail_child.text.strip() == \"Formulated Without\":\n",
    "                mode = formulated_ul_tag\n",
    "                continue \n",
    "            elif detail_child.text.strip() == \"Clinical Results\":\n",
    "                mode = clinical_ul_tag\n",
    "                continue             \n",
    "            else:\n",
    "                continue\n",
    "\n",
    "        # search within ul tag        \n",
    "        if mode == benefits_ul_tag:\n",
    "            if detail_child.name == \"ul\": #if the tag is ul\n",
    "                benefits_count = count_li_tag(detail_child)\n",
    "                mode = tagSearch\n",
    "                continue\n",
    "            else:\n",
    "                continue\n",
    "        if mode == ingredients_ul_tag:\n",
    "            if detail_child.name == \"ul\": #if the tag is ul\n",
    "                key_ingredients = count_li_tag(detail_child)\n",
    "                mode = tagSearch\n",
    "            else:\n",
    "                continue      \n",
    "        if mode == formulated_ul_tag:\n",
    "            if detail_child.name == \"ul\":\n",
    "                clean_formula = count_li_tag(detail_child)\n",
    "                mode = tagSearch\n",
    "        if mode == clinical_ul_tag:\n",
    "            if detail_child.name == \"ul\":\n",
    "                clinical = count_li_tag(detail_child)\n",
    "                mode = tagSearch  \n",
    "                \n",
    "    # test statements if no ul was found\n",
    "    if mode == benefits_ul_tag:\n",
    "        print(\"Benefits with no ul:\" + soup_product)\n",
    "    elif mode == ingredients_ul_tag:\n",
    "        print(\"Key Ingredients with no ul:\" + soup_product)\n",
    "    elif mode == formulated_ul_tag:\n",
    "        print('Formuated wihout with no ul')\n",
    "    elif mode == clinical_ul_tag:\n",
    "        print('Clinical Results with no ul')    \n",
    "    \n",
    "    return benefits_count, key_ingredients, clean_formula, clinical"
   ]
  },
  {
   "cell_type": "markdown",
   "id": "187883e7",
   "metadata": {},
   "source": [
    "## 3. Putting all features together"
   ]
  },
  {
   "cell_type": "markdown",
   "id": "fd587a41",
   "metadata": {},
   "source": [
    "* Predictor: Rating value --`rating_val`\n",
    "* Brand --`brand`\n",
    "1. number of reviews -- `review_count\t`\n",
    "2. product name -- `productName` -- after scraping find `wordCount_name`\n",
    "3. product description word count -- `wordCount_descr`\n",
    "4. price (USD) -- `price_USD`\n",
    "5. size(volume) -- `size`\n",
    "6. length of ingredients list -- `len_ingredients`\n",
    "7. Number of benefits (count bullet points) -- `benefits_count`\n",
    "8. Number of key Ingredients (count bullet points) -- `key_ingredients`\n",
    "9. count of made_without_list (Formulated without) --`clean_formula`\n",
    "10. count of Clinical Results --`clinical`"
   ]
  },
  {
   "cell_type": "code",
   "execution_count": 14,
   "id": "1688788b",
   "metadata": {},
   "outputs": [],
   "source": [
    "def products_features(product_soup, productCategory):  \n",
    "    \n",
    "    brand, productName, rating_val, review_count, wordCount_descr, price_USD\\\n",
    "    = productDetail(product_soup)\n",
    "    \n",
    "    size = product_size(product_soup)\n",
    "    \n",
    "    ingredients_list,len_ingredients,len_active = ingredients_info(product_soup)\n",
    "    \n",
    "    benefits_count, key_ingredients, clean_formula, clinical = details_count(product_soup)\n",
    "    \n",
    "    productType = productCategory\n",
    "    \n",
    "    product_dict = ({\n",
    "        'brand':brand,\n",
    "        'productName':productName,\n",
    "        'price_USD':price_USD,\n",
    "        'rating_val':rating_val,\n",
    "        'review_count':review_count,\n",
    "        'wordCount_descr':wordCount_descr,\n",
    "        'size':size,\n",
    "        'key_ingredients':key_ingredients,\n",
    "        'ingredients_list':ingredients_list,\n",
    "        'len_ingredients':len_ingredients, \n",
    "        'len_actives':len_active,\n",
    "        'benefits_count':benefits_count,\n",
    "        'clean_formula':clean_formula,\n",
    "        'clinical':clinical,\n",
    "        'productType':productType\n",
    "    }) \n",
    "    \n",
    "    return product_dict"
   ]
  },
  {
   "cell_type": "markdown",
   "id": "3bb62bea",
   "metadata": {},
   "source": [
    "## 4. Get features of pipeline soup, create df"
   ]
  },
  {
   "cell_type": "markdown",
   "id": "8033f904",
   "metadata": {},
   "source": [
    "### a) moisturizers"
   ]
  },
  {
   "cell_type": "code",
   "execution_count": 15,
   "id": "9c634fbf",
   "metadata": {},
   "outputs": [],
   "source": [
    "moisturizer_pipeline = []\n",
    "for soup in moisturizer_soup:\n",
    "    feature = products_features(soup, 'moisturizer')\n",
    "    moisturizer_pipeline.append(feature)"
   ]
  },
  {
   "cell_type": "code",
   "execution_count": 16,
   "id": "ef165b0c",
   "metadata": {},
   "outputs": [
    {
     "data": {
      "text/plain": [
       "1349"
      ]
     },
     "execution_count": 16,
     "metadata": {},
     "output_type": "execute_result"
    }
   ],
   "source": [
    "len(moisturizer_pipeline)"
   ]
  },
  {
   "cell_type": "code",
   "execution_count": 17,
   "id": "eab84079",
   "metadata": {},
   "outputs": [],
   "source": [
    "moisturizer_df = pd.DataFrame(moisturizer_pipeline)"
   ]
  },
  {
   "cell_type": "code",
   "execution_count": 18,
   "id": "36e09dda",
   "metadata": {},
   "outputs": [
    {
     "data": {
      "text/html": [
       "<div>\n",
       "<style scoped>\n",
       "    .dataframe tbody tr th:only-of-type {\n",
       "        vertical-align: middle;\n",
       "    }\n",
       "\n",
       "    .dataframe tbody tr th {\n",
       "        vertical-align: top;\n",
       "    }\n",
       "\n",
       "    .dataframe thead th {\n",
       "        text-align: right;\n",
       "    }\n",
       "</style>\n",
       "<table border=\"1\" class=\"dataframe\">\n",
       "  <thead>\n",
       "    <tr style=\"text-align: right;\">\n",
       "      <th></th>\n",
       "      <th>brand</th>\n",
       "      <th>productName</th>\n",
       "      <th>price_USD</th>\n",
       "      <th>rating_val</th>\n",
       "      <th>review_count</th>\n",
       "      <th>wordCount_descr</th>\n",
       "      <th>size</th>\n",
       "      <th>key_ingredients</th>\n",
       "      <th>ingredients_list</th>\n",
       "      <th>len_ingredients</th>\n",
       "      <th>len_actives</th>\n",
       "      <th>benefits_count</th>\n",
       "      <th>clean_formula</th>\n",
       "      <th>clinical</th>\n",
       "      <th>productType</th>\n",
       "    </tr>\n",
       "  </thead>\n",
       "  <tbody>\n",
       "    <tr>\n",
       "      <th>0</th>\n",
       "      <td>it cosmetics</td>\n",
       "      <td>confidence in a cream anti-aging moisturizer</td>\n",
       "      <td>49.50</td>\n",
       "      <td>4.5</td>\n",
       "      <td>4431.0</td>\n",
       "      <td>26</td>\n",
       "      <td>2.0 oz</td>\n",
       "      <td>10.0</td>\n",
       "      <td>[aqua (water,  eau),  butylene glycol,  cyclop...</td>\n",
       "      <td>102.0</td>\n",
       "      <td>7.0</td>\n",
       "      <td>7.0</td>\n",
       "      <td>NaN</td>\n",
       "      <td>5.0</td>\n",
       "      <td>moisturizer</td>\n",
       "    </tr>\n",
       "    <tr>\n",
       "      <th>1</th>\n",
       "      <td>clinique</td>\n",
       "      <td>dramatically different moisturizing lotion+</td>\n",
       "      <td>32.50</td>\n",
       "      <td>4.4</td>\n",
       "      <td>4962.0</td>\n",
       "      <td>15</td>\n",
       "      <td>4.2 oz</td>\n",
       "      <td>2.0</td>\n",
       "      <td>[water / aqua / eau,  mineral oil / paraffinum...</td>\n",
       "      <td>23.0</td>\n",
       "      <td>7.0</td>\n",
       "      <td>9.0</td>\n",
       "      <td>7.0</td>\n",
       "      <td>NaN</td>\n",
       "      <td>moisturizer</td>\n",
       "    </tr>\n",
       "    <tr>\n",
       "      <th>2</th>\n",
       "      <td>urban decay cosmetics</td>\n",
       "      <td>hydromaniac glowy tinted hydrator foundation</td>\n",
       "      <td>29.00</td>\n",
       "      <td>4.3</td>\n",
       "      <td>2200.0</td>\n",
       "      <td>23</td>\n",
       "      <td>Size 1.1 oz</td>\n",
       "      <td>2.0</td>\n",
       "      <td>[50: aqua / water / eau,  phenyl trimethicone,...</td>\n",
       "      <td>32.0</td>\n",
       "      <td>7.0</td>\n",
       "      <td>8.0</td>\n",
       "      <td>NaN</td>\n",
       "      <td>4.0</td>\n",
       "      <td>moisturizer</td>\n",
       "    </tr>\n",
       "    <tr>\n",
       "      <th>3</th>\n",
       "      <td>strivectin</td>\n",
       "      <td>sd advanced plus intensive moisturizing concen...</td>\n",
       "      <td>79.00</td>\n",
       "      <td>4.6</td>\n",
       "      <td>613.0</td>\n",
       "      <td>27</td>\n",
       "      <td>2.0 oz</td>\n",
       "      <td>NaN</td>\n",
       "      <td>[aqua (water,  eau),  glycerin,  pentaerythrit...</td>\n",
       "      <td>72.0</td>\n",
       "      <td>7.0</td>\n",
       "      <td>7.0</td>\n",
       "      <td>NaN</td>\n",
       "      <td>NaN</td>\n",
       "      <td>moisturizer</td>\n",
       "    </tr>\n",
       "    <tr>\n",
       "      <th>4</th>\n",
       "      <td>josie maran</td>\n",
       "      <td>whipped argan oil face butter</td>\n",
       "      <td>42.00</td>\n",
       "      <td>4.8</td>\n",
       "      <td>1188.0</td>\n",
       "      <td>28</td>\n",
       "      <td>Size 1.7 oz</td>\n",
       "      <td>2.0</td>\n",
       "      <td>[aqua (water)**,  argania spinosa (argan) kern...</td>\n",
       "      <td>36.0</td>\n",
       "      <td>7.0</td>\n",
       "      <td>4.0</td>\n",
       "      <td>NaN</td>\n",
       "      <td>NaN</td>\n",
       "      <td>moisturizer</td>\n",
       "    </tr>\n",
       "  </tbody>\n",
       "</table>\n",
       "</div>"
      ],
      "text/plain": [
       "                   brand                                        productName  \\\n",
       "0           it cosmetics       confidence in a cream anti-aging moisturizer   \n",
       "1               clinique        dramatically different moisturizing lotion+   \n",
       "2  urban decay cosmetics       hydromaniac glowy tinted hydrator foundation   \n",
       "3             strivectin  sd advanced plus intensive moisturizing concen...   \n",
       "4            josie maran                      whipped argan oil face butter   \n",
       "\n",
       "  price_USD  rating_val  review_count  wordCount_descr         size  \\\n",
       "0     49.50         4.5        4431.0               26       2.0 oz   \n",
       "1     32.50         4.4        4962.0               15       4.2 oz   \n",
       "2     29.00         4.3        2200.0               23  Size 1.1 oz   \n",
       "3     79.00         4.6         613.0               27       2.0 oz   \n",
       "4     42.00         4.8        1188.0               28  Size 1.7 oz   \n",
       "\n",
       "   key_ingredients                                   ingredients_list  \\\n",
       "0             10.0  [aqua (water,  eau),  butylene glycol,  cyclop...   \n",
       "1              2.0  [water / aqua / eau,  mineral oil / paraffinum...   \n",
       "2              2.0  [50: aqua / water / eau,  phenyl trimethicone,...   \n",
       "3              NaN  [aqua (water,  eau),  glycerin,  pentaerythrit...   \n",
       "4              2.0  [aqua (water)**,  argania spinosa (argan) kern...   \n",
       "\n",
       "   len_ingredients  len_actives  benefits_count  clean_formula  clinical  \\\n",
       "0            102.0          7.0             7.0            NaN       5.0   \n",
       "1             23.0          7.0             9.0            7.0       NaN   \n",
       "2             32.0          7.0             8.0            NaN       4.0   \n",
       "3             72.0          7.0             7.0            NaN       NaN   \n",
       "4             36.0          7.0             4.0            NaN       NaN   \n",
       "\n",
       "   productType  \n",
       "0  moisturizer  \n",
       "1  moisturizer  \n",
       "2  moisturizer  \n",
       "3  moisturizer  \n",
       "4  moisturizer  "
      ]
     },
     "execution_count": 18,
     "metadata": {},
     "output_type": "execute_result"
    }
   ],
   "source": [
    "moisturizer_df.head()"
   ]
  },
  {
   "cell_type": "code",
   "execution_count": 19,
   "id": "3406deb2",
   "metadata": {},
   "outputs": [
    {
     "data": {
      "text/plain": [
       "(1349, 15)"
      ]
     },
     "execution_count": 19,
     "metadata": {},
     "output_type": "execute_result"
    }
   ],
   "source": [
    "moisturizer_df.shape"
   ]
  },
  {
   "cell_type": "markdown",
   "id": "9d984ab2",
   "metadata": {},
   "source": [
    "### b) face serums"
   ]
  },
  {
   "cell_type": "code",
   "execution_count": 20,
   "id": "d0cb4e63",
   "metadata": {},
   "outputs": [],
   "source": [
    "serum_pipeline = []\n",
    "for soup in serum_soup:\n",
    "    feature = products_features(soup, 'serum')\n",
    "    serum_pipeline.append(feature)"
   ]
  },
  {
   "cell_type": "code",
   "execution_count": 21,
   "id": "70b199f7",
   "metadata": {},
   "outputs": [],
   "source": [
    "serum_df = pd.DataFrame(serum_pipeline)"
   ]
  },
  {
   "cell_type": "code",
   "execution_count": 22,
   "id": "195ca8b9",
   "metadata": {},
   "outputs": [
    {
     "data": {
      "text/html": [
       "<div>\n",
       "<style scoped>\n",
       "    .dataframe tbody tr th:only-of-type {\n",
       "        vertical-align: middle;\n",
       "    }\n",
       "\n",
       "    .dataframe tbody tr th {\n",
       "        vertical-align: top;\n",
       "    }\n",
       "\n",
       "    .dataframe thead th {\n",
       "        text-align: right;\n",
       "    }\n",
       "</style>\n",
       "<table border=\"1\" class=\"dataframe\">\n",
       "  <thead>\n",
       "    <tr style=\"text-align: right;\">\n",
       "      <th></th>\n",
       "      <th>brand</th>\n",
       "      <th>productName</th>\n",
       "      <th>price_USD</th>\n",
       "      <th>rating_val</th>\n",
       "      <th>review_count</th>\n",
       "      <th>wordCount_descr</th>\n",
       "      <th>size</th>\n",
       "      <th>key_ingredients</th>\n",
       "      <th>ingredients_list</th>\n",
       "      <th>len_ingredients</th>\n",
       "      <th>len_actives</th>\n",
       "      <th>benefits_count</th>\n",
       "      <th>clean_formula</th>\n",
       "      <th>clinical</th>\n",
       "      <th>productType</th>\n",
       "    </tr>\n",
       "  </thead>\n",
       "  <tbody>\n",
       "    <tr>\n",
       "      <th>0</th>\n",
       "      <td>clarins</td>\n",
       "      <td>double serum</td>\n",
       "      <td>169.00</td>\n",
       "      <td>4.3</td>\n",
       "      <td>9997.0</td>\n",
       "      <td>24</td>\n",
       "      <td>2.5 oz</td>\n",
       "      <td>7.0</td>\n",
       "      <td>[aqua/water/eau,  cetearyl isononanoate,  glyc...</td>\n",
       "      <td>52.0</td>\n",
       "      <td>7.0</td>\n",
       "      <td>9.0</td>\n",
       "      <td>NaN</td>\n",
       "      <td>NaN</td>\n",
       "      <td>serum</td>\n",
       "    </tr>\n",
       "    <tr>\n",
       "      <th>1</th>\n",
       "      <td>strivectin</td>\n",
       "      <td>super-c retinol brighten &amp; correct vitamin c s...</td>\n",
       "      <td>72.00</td>\n",
       "      <td>4.4</td>\n",
       "      <td>627.0</td>\n",
       "      <td>27</td>\n",
       "      <td>Size 1.0 oz</td>\n",
       "      <td>3.0</td>\n",
       "      <td>[aqua (water,  eau),  sodium ascorbyl phosphat...</td>\n",
       "      <td>49.0</td>\n",
       "      <td>7.0</td>\n",
       "      <td>3.0</td>\n",
       "      <td>NaN</td>\n",
       "      <td>6.0</td>\n",
       "      <td>serum</td>\n",
       "    </tr>\n",
       "  </tbody>\n",
       "</table>\n",
       "</div>"
      ],
      "text/plain": [
       "        brand                                        productName price_USD  \\\n",
       "0     clarins                                       double serum    169.00   \n",
       "1  strivectin  super-c retinol brighten & correct vitamin c s...     72.00   \n",
       "\n",
       "   rating_val  review_count  wordCount_descr         size  key_ingredients  \\\n",
       "0         4.3        9997.0               24       2.5 oz              7.0   \n",
       "1         4.4         627.0               27  Size 1.0 oz              3.0   \n",
       "\n",
       "                                    ingredients_list  len_ingredients  \\\n",
       "0  [aqua/water/eau,  cetearyl isononanoate,  glyc...             52.0   \n",
       "1  [aqua (water,  eau),  sodium ascorbyl phosphat...             49.0   \n",
       "\n",
       "   len_actives  benefits_count  clean_formula  clinical productType  \n",
       "0          7.0             9.0            NaN       NaN       serum  \n",
       "1          7.0             3.0            NaN       6.0       serum  "
      ]
     },
     "execution_count": 22,
     "metadata": {},
     "output_type": "execute_result"
    }
   ],
   "source": [
    "serum_df.head(2)"
   ]
  },
  {
   "cell_type": "markdown",
   "id": "39d6d1fd",
   "metadata": {},
   "source": [
    "### Combining dataframes"
   ]
  },
  {
   "cell_type": "code",
   "execution_count": 50,
   "id": "7b1b053e",
   "metadata": {},
   "outputs": [],
   "source": [
    "skincare_df = pd.concat([moisturizer_df,serum_df], axis=0, join='outer')"
   ]
  },
  {
   "cell_type": "code",
   "execution_count": 51,
   "id": "328f8074",
   "metadata": {},
   "outputs": [
    {
     "data": {
      "text/html": [
       "<div>\n",
       "<style scoped>\n",
       "    .dataframe tbody tr th:only-of-type {\n",
       "        vertical-align: middle;\n",
       "    }\n",
       "\n",
       "    .dataframe tbody tr th {\n",
       "        vertical-align: top;\n",
       "    }\n",
       "\n",
       "    .dataframe thead th {\n",
       "        text-align: right;\n",
       "    }\n",
       "</style>\n",
       "<table border=\"1\" class=\"dataframe\">\n",
       "  <thead>\n",
       "    <tr style=\"text-align: right;\">\n",
       "      <th></th>\n",
       "      <th>brand</th>\n",
       "      <th>productName</th>\n",
       "      <th>price_USD</th>\n",
       "      <th>rating_val</th>\n",
       "      <th>review_count</th>\n",
       "      <th>wordCount_descr</th>\n",
       "      <th>size</th>\n",
       "      <th>key_ingredients</th>\n",
       "      <th>ingredients_list</th>\n",
       "      <th>len_ingredients</th>\n",
       "      <th>len_actives</th>\n",
       "      <th>benefits_count</th>\n",
       "      <th>clean_formula</th>\n",
       "      <th>clinical</th>\n",
       "      <th>productType</th>\n",
       "    </tr>\n",
       "  </thead>\n",
       "  <tbody>\n",
       "    <tr>\n",
       "      <th>0</th>\n",
       "      <td>it cosmetics</td>\n",
       "      <td>confidence in a cream anti-aging moisturizer</td>\n",
       "      <td>49.50</td>\n",
       "      <td>4.5</td>\n",
       "      <td>4431.0</td>\n",
       "      <td>26</td>\n",
       "      <td>2.0 oz</td>\n",
       "      <td>10.0</td>\n",
       "      <td>[aqua (water,  eau),  butylene glycol,  cyclop...</td>\n",
       "      <td>102.0</td>\n",
       "      <td>7.0</td>\n",
       "      <td>7.0</td>\n",
       "      <td>NaN</td>\n",
       "      <td>5.0</td>\n",
       "      <td>moisturizer</td>\n",
       "    </tr>\n",
       "  </tbody>\n",
       "</table>\n",
       "</div>"
      ],
      "text/plain": [
       "          brand                                   productName price_USD  \\\n",
       "0  it cosmetics  confidence in a cream anti-aging moisturizer     49.50   \n",
       "\n",
       "   rating_val  review_count  wordCount_descr    size  key_ingredients  \\\n",
       "0         4.5        4431.0               26  2.0 oz             10.0   \n",
       "\n",
       "                                    ingredients_list  len_ingredients  \\\n",
       "0  [aqua (water,  eau),  butylene glycol,  cyclop...            102.0   \n",
       "\n",
       "   len_actives  benefits_count  clean_formula  clinical  productType  \n",
       "0          7.0             7.0            NaN       5.0  moisturizer  "
      ]
     },
     "execution_count": 51,
     "metadata": {},
     "output_type": "execute_result"
    }
   ],
   "source": [
    "skincare_df.head(1)"
   ]
  },
  {
   "cell_type": "code",
   "execution_count": 52,
   "id": "db4824fe",
   "metadata": {},
   "outputs": [
    {
     "data": {
      "text/html": [
       "<div>\n",
       "<style scoped>\n",
       "    .dataframe tbody tr th:only-of-type {\n",
       "        vertical-align: middle;\n",
       "    }\n",
       "\n",
       "    .dataframe tbody tr th {\n",
       "        vertical-align: top;\n",
       "    }\n",
       "\n",
       "    .dataframe thead th {\n",
       "        text-align: right;\n",
       "    }\n",
       "</style>\n",
       "<table border=\"1\" class=\"dataframe\">\n",
       "  <thead>\n",
       "    <tr style=\"text-align: right;\">\n",
       "      <th></th>\n",
       "      <th>brand</th>\n",
       "      <th>productName</th>\n",
       "      <th>price_USD</th>\n",
       "      <th>rating_val</th>\n",
       "      <th>review_count</th>\n",
       "      <th>wordCount_descr</th>\n",
       "      <th>size</th>\n",
       "      <th>key_ingredients</th>\n",
       "      <th>ingredients_list</th>\n",
       "      <th>len_ingredients</th>\n",
       "      <th>len_actives</th>\n",
       "      <th>benefits_count</th>\n",
       "      <th>clean_formula</th>\n",
       "      <th>clinical</th>\n",
       "      <th>productType</th>\n",
       "    </tr>\n",
       "  </thead>\n",
       "  <tbody>\n",
       "    <tr>\n",
       "      <th>556</th>\n",
       "      <td>derma e</td>\n",
       "      <td>acne control treatment serum</td>\n",
       "      <td>11.89</td>\n",
       "      <td>4.4</td>\n",
       "      <td>266.0</td>\n",
       "      <td>15</td>\n",
       "      <td>Size 2.0 oz</td>\n",
       "      <td>2.0</td>\n",
       "      <td>[active: salicylic acid 0.5%. inactive: purifi...</td>\n",
       "      <td>19.0</td>\n",
       "      <td>7.0</td>\n",
       "      <td>2.0</td>\n",
       "      <td>NaN</td>\n",
       "      <td>NaN</td>\n",
       "      <td>serum</td>\n",
       "    </tr>\n",
       "  </tbody>\n",
       "</table>\n",
       "</div>"
      ],
      "text/plain": [
       "       brand                   productName price_USD  rating_val  \\\n",
       "556  derma e  acne control treatment serum     11.89         4.4   \n",
       "\n",
       "     review_count  wordCount_descr         size  key_ingredients  \\\n",
       "556         266.0               15  Size 2.0 oz              2.0   \n",
       "\n",
       "                                      ingredients_list  len_ingredients  \\\n",
       "556  [active: salicylic acid 0.5%. inactive: purifi...             19.0   \n",
       "\n",
       "     len_actives  benefits_count  clean_formula  clinical productType  \n",
       "556          7.0             2.0            NaN       NaN       serum  "
      ]
     },
     "execution_count": 52,
     "metadata": {},
     "output_type": "execute_result"
    }
   ],
   "source": [
    "skincare_df.tail(1)"
   ]
  },
  {
   "cell_type": "code",
   "execution_count": 53,
   "id": "03445e9a",
   "metadata": {},
   "outputs": [
    {
     "name": "stdout",
     "output_type": "stream",
     "text": [
      "<class 'pandas.core.frame.DataFrame'>\n",
      "Int64Index: 1906 entries, 0 to 556\n",
      "Data columns (total 15 columns):\n",
      " #   Column            Non-Null Count  Dtype  \n",
      "---  ------            --------------  -----  \n",
      " 0   brand             1906 non-null   object \n",
      " 1   productName       1906 non-null   object \n",
      " 2   price_USD         1906 non-null   object \n",
      " 3   rating_val        1849 non-null   float64\n",
      " 4   review_count      1849 non-null   float64\n",
      " 5   wordCount_descr   1906 non-null   int64  \n",
      " 6   size              1906 non-null   object \n",
      " 7   key_ingredients   1381 non-null   float64\n",
      " 8   ingredients_list  1906 non-null   object \n",
      " 9   len_ingredients   1875 non-null   float64\n",
      " 10  len_actives       1875 non-null   float64\n",
      " 11  benefits_count    1722 non-null   float64\n",
      " 12  clean_formula     708 non-null    float64\n",
      " 13  clinical          326 non-null    float64\n",
      " 14  productType       1906 non-null   object \n",
      "dtypes: float64(8), int64(1), object(6)\n",
      "memory usage: 238.2+ KB\n"
     ]
    }
   ],
   "source": [
    "skincare_df.info()"
   ]
  },
  {
   "cell_type": "markdown",
   "id": "79e0e67e",
   "metadata": {},
   "source": [
    "## Data cleanup and EDA"
   ]
  },
  {
   "cell_type": "code",
   "execution_count": 54,
   "id": "a46dcab6",
   "metadata": {},
   "outputs": [],
   "source": [
    "# drop rows where rating_val is none\n",
    "# reset_index to keep original index\n",
    "skincare_df = skincare_df.dropna(subset= 'rating_val', axis = 0)"
   ]
  },
  {
   "cell_type": "code",
   "execution_count": 55,
   "id": "6b527bbc",
   "metadata": {},
   "outputs": [
    {
     "data": {
      "text/html": [
       "<div>\n",
       "<style scoped>\n",
       "    .dataframe tbody tr th:only-of-type {\n",
       "        vertical-align: middle;\n",
       "    }\n",
       "\n",
       "    .dataframe tbody tr th {\n",
       "        vertical-align: top;\n",
       "    }\n",
       "\n",
       "    .dataframe thead th {\n",
       "        text-align: right;\n",
       "    }\n",
       "</style>\n",
       "<table border=\"1\" class=\"dataframe\">\n",
       "  <thead>\n",
       "    <tr style=\"text-align: right;\">\n",
       "      <th></th>\n",
       "      <th>brand</th>\n",
       "      <th>productName</th>\n",
       "      <th>price_USD</th>\n",
       "      <th>rating_val</th>\n",
       "      <th>review_count</th>\n",
       "      <th>wordCount_descr</th>\n",
       "      <th>size</th>\n",
       "      <th>key_ingredients</th>\n",
       "      <th>ingredients_list</th>\n",
       "      <th>len_ingredients</th>\n",
       "      <th>len_actives</th>\n",
       "      <th>benefits_count</th>\n",
       "      <th>clean_formula</th>\n",
       "      <th>clinical</th>\n",
       "      <th>productType</th>\n",
       "    </tr>\n",
       "  </thead>\n",
       "  <tbody>\n",
       "    <tr>\n",
       "      <th>0</th>\n",
       "      <td>it cosmetics</td>\n",
       "      <td>confidence in a cream anti-aging moisturizer</td>\n",
       "      <td>49.50</td>\n",
       "      <td>4.5</td>\n",
       "      <td>4431.0</td>\n",
       "      <td>26</td>\n",
       "      <td>2.0 oz</td>\n",
       "      <td>10.0</td>\n",
       "      <td>[aqua (water,  eau),  butylene glycol,  cyclop...</td>\n",
       "      <td>102.0</td>\n",
       "      <td>7.0</td>\n",
       "      <td>7.0</td>\n",
       "      <td>NaN</td>\n",
       "      <td>5.0</td>\n",
       "      <td>moisturizer</td>\n",
       "    </tr>\n",
       "  </tbody>\n",
       "</table>\n",
       "</div>"
      ],
      "text/plain": [
       "          brand                                   productName price_USD  \\\n",
       "0  it cosmetics  confidence in a cream anti-aging moisturizer     49.50   \n",
       "\n",
       "   rating_val  review_count  wordCount_descr    size  key_ingredients  \\\n",
       "0         4.5        4431.0               26  2.0 oz             10.0   \n",
       "\n",
       "                                    ingredients_list  len_ingredients  \\\n",
       "0  [aqua (water,  eau),  butylene glycol,  cyclop...            102.0   \n",
       "\n",
       "   len_actives  benefits_count  clean_formula  clinical  productType  \n",
       "0          7.0             7.0            NaN       5.0  moisturizer  "
      ]
     },
     "execution_count": 55,
     "metadata": {},
     "output_type": "execute_result"
    }
   ],
   "source": [
    "skincare_df.head(1)"
   ]
  },
  {
   "cell_type": "code",
   "execution_count": 56,
   "id": "e4f026f2",
   "metadata": {},
   "outputs": [],
   "source": [
    "# Fill NaN values with 0 since it means that the product does not contain the feature,\n",
    "skincare_df = skincare_df.fillna(0)"
   ]
  },
  {
   "cell_type": "code",
   "execution_count": 57,
   "id": "13c7a8a8",
   "metadata": {},
   "outputs": [],
   "source": [
    "# clean size column - return int\n",
    "def clean_size(size_val):\n",
    "    if isinstance(size_val, str): \n",
    "        size_val = (size_val.replace('Size', \" \").replace('oz', \" \")\n",
    "                    .replace('ct', \" \").replace('pair', \" \")\n",
    "                    .replace('fl', \" \").strip())\n",
    "    return size_val"
   ]
  },
  {
   "cell_type": "code",
   "execution_count": 59,
   "id": "ff2ffc2b",
   "metadata": {},
   "outputs": [],
   "source": [
    "# problematic size\n",
    "#skincare_df[skincare_df['size'] == 'Size 7 x 0.35 oz']\n",
    "skincare_df = skincare_df.drop(531)"
   ]
  },
  {
   "cell_type": "code",
   "execution_count": 60,
   "id": "390c1d3a",
   "metadata": {},
   "outputs": [],
   "source": [
    "# convert string to int type\n",
    "skincare_df['size_float'] = skincare_df['size'].apply(clean_size).astype(np.float64)\n",
    "\n",
    "# find mode of size, then fill NaN with mode\n",
    "mode_val = float(skincare_df['size_float'].mode())\n",
    "skincare_df['size_float'].fillna(mode_val, inplace=True)"
   ]
  },
  {
   "cell_type": "code",
   "execution_count": 61,
   "id": "55095c4b",
   "metadata": {},
   "outputs": [],
   "source": [
    "def replace_zero(val):\n",
    "    if val == 0:\n",
    "        val = mode_val\n",
    "    return val\n",
    "\n",
    "# replace zero with mode \n",
    "skincare_df['size_float'] = skincare_df['size_float'].apply(replace_zero)"
   ]
  },
  {
   "cell_type": "code",
   "execution_count": 62,
   "id": "71f799f7",
   "metadata": {},
   "outputs": [],
   "source": [
    "del skincare_df['size']"
   ]
  },
  {
   "cell_type": "code",
   "execution_count": 63,
   "id": "39c7e0a5",
   "metadata": {},
   "outputs": [
    {
     "name": "stdout",
     "output_type": "stream",
     "text": [
      "(1847, 15)\n"
     ]
    },
    {
     "data": {
      "text/html": [
       "<div>\n",
       "<style scoped>\n",
       "    .dataframe tbody tr th:only-of-type {\n",
       "        vertical-align: middle;\n",
       "    }\n",
       "\n",
       "    .dataframe tbody tr th {\n",
       "        vertical-align: top;\n",
       "    }\n",
       "\n",
       "    .dataframe thead th {\n",
       "        text-align: right;\n",
       "    }\n",
       "</style>\n",
       "<table border=\"1\" class=\"dataframe\">\n",
       "  <thead>\n",
       "    <tr style=\"text-align: right;\">\n",
       "      <th></th>\n",
       "      <th>brand</th>\n",
       "      <th>productName</th>\n",
       "      <th>price_USD</th>\n",
       "      <th>rating_val</th>\n",
       "      <th>review_count</th>\n",
       "      <th>wordCount_descr</th>\n",
       "      <th>key_ingredients</th>\n",
       "      <th>ingredients_list</th>\n",
       "      <th>len_ingredients</th>\n",
       "      <th>len_actives</th>\n",
       "      <th>benefits_count</th>\n",
       "      <th>clean_formula</th>\n",
       "      <th>clinical</th>\n",
       "      <th>productType</th>\n",
       "      <th>size_float</th>\n",
       "    </tr>\n",
       "  </thead>\n",
       "  <tbody>\n",
       "    <tr>\n",
       "      <th>893</th>\n",
       "      <td>specific beauty</td>\n",
       "      <td>dark spot go away target treatment</td>\n",
       "      <td>24.99</td>\n",
       "      <td>4.4</td>\n",
       "      <td>88.0</td>\n",
       "      <td>46</td>\n",
       "      <td>5.0</td>\n",
       "      <td>[water,  butylene glycol,  dimethyl isosorbide...</td>\n",
       "      <td>24.0</td>\n",
       "      <td>7.0</td>\n",
       "      <td>7.0</td>\n",
       "      <td>4.0</td>\n",
       "      <td>0.0</td>\n",
       "      <td>moisturizer</td>\n",
       "      <td>0.5</td>\n",
       "    </tr>\n",
       "    <tr>\n",
       "      <th>656</th>\n",
       "      <td>aveeno</td>\n",
       "      <td>positively radiant daily moisturizer spf 15</td>\n",
       "      <td>19.99</td>\n",
       "      <td>4.3</td>\n",
       "      <td>407.0</td>\n",
       "      <td>32</td>\n",
       "      <td>2.0</td>\n",
       "      <td>[active: avobenzone 3%,  octinoxate 7.5%,  oct...</td>\n",
       "      <td>33.0</td>\n",
       "      <td>7.0</td>\n",
       "      <td>5.0</td>\n",
       "      <td>0.0</td>\n",
       "      <td>1.0</td>\n",
       "      <td>moisturizer</td>\n",
       "      <td>4.0</td>\n",
       "    </tr>\n",
       "    <tr>\n",
       "      <th>176</th>\n",
       "      <td>fresh</td>\n",
       "      <td>sugar lip balm gift set</td>\n",
       "      <td>18.50</td>\n",
       "      <td>4.7</td>\n",
       "      <td>10.0</td>\n",
       "      <td>25</td>\n",
       "      <td>2.0</td>\n",
       "      <td>[sugar lip treatment advanced therapy: cera al...</td>\n",
       "      <td>72.0</td>\n",
       "      <td>7.0</td>\n",
       "      <td>2.0</td>\n",
       "      <td>0.0</td>\n",
       "      <td>0.0</td>\n",
       "      <td>moisturizer</td>\n",
       "      <td>1.0</td>\n",
       "    </tr>\n",
       "    <tr>\n",
       "      <th>101</th>\n",
       "      <td>perricone md</td>\n",
       "      <td>cold plasma plus+ sub-d / neck</td>\n",
       "      <td>135.00</td>\n",
       "      <td>4.2</td>\n",
       "      <td>402.0</td>\n",
       "      <td>20</td>\n",
       "      <td>3.0</td>\n",
       "      <td>none</td>\n",
       "      <td>0.0</td>\n",
       "      <td>0.0</td>\n",
       "      <td>14.0</td>\n",
       "      <td>0.0</td>\n",
       "      <td>3.0</td>\n",
       "      <td>moisturizer</td>\n",
       "      <td>2.0</td>\n",
       "    </tr>\n",
       "    <tr>\n",
       "      <th>1203</th>\n",
       "      <td>holika holika</td>\n",
       "      <td>good cera super ceramide mist</td>\n",
       "      <td>20.00</td>\n",
       "      <td>5.0</td>\n",
       "      <td>1.0</td>\n",
       "      <td>45</td>\n",
       "      <td>7.0</td>\n",
       "      <td>[water,  methylpropanediol,  pentylene glycol,...</td>\n",
       "      <td>36.0</td>\n",
       "      <td>7.0</td>\n",
       "      <td>5.0</td>\n",
       "      <td>0.0</td>\n",
       "      <td>0.0</td>\n",
       "      <td>moisturizer</td>\n",
       "      <td>1.0</td>\n",
       "    </tr>\n",
       "  </tbody>\n",
       "</table>\n",
       "</div>"
      ],
      "text/plain": [
       "                brand                                  productName price_USD  \\\n",
       "893   specific beauty           dark spot go away target treatment     24.99   \n",
       "656            aveeno  positively radiant daily moisturizer spf 15     19.99   \n",
       "176             fresh                      sugar lip balm gift set     18.50   \n",
       "101      perricone md               cold plasma plus+ sub-d / neck    135.00   \n",
       "1203    holika holika                good cera super ceramide mist     20.00   \n",
       "\n",
       "      rating_val  review_count  wordCount_descr  key_ingredients  \\\n",
       "893          4.4          88.0               46              5.0   \n",
       "656          4.3         407.0               32              2.0   \n",
       "176          4.7          10.0               25              2.0   \n",
       "101          4.2         402.0               20              3.0   \n",
       "1203         5.0           1.0               45              7.0   \n",
       "\n",
       "                                       ingredients_list  len_ingredients  \\\n",
       "893   [water,  butylene glycol,  dimethyl isosorbide...             24.0   \n",
       "656   [active: avobenzone 3%,  octinoxate 7.5%,  oct...             33.0   \n",
       "176   [sugar lip treatment advanced therapy: cera al...             72.0   \n",
       "101                                                none              0.0   \n",
       "1203  [water,  methylpropanediol,  pentylene glycol,...             36.0   \n",
       "\n",
       "      len_actives  benefits_count  clean_formula  clinical  productType  \\\n",
       "893           7.0             7.0            4.0       0.0  moisturizer   \n",
       "656           7.0             5.0            0.0       1.0  moisturizer   \n",
       "176           7.0             2.0            0.0       0.0  moisturizer   \n",
       "101           0.0            14.0            0.0       3.0  moisturizer   \n",
       "1203          7.0             5.0            0.0       0.0  moisturizer   \n",
       "\n",
       "      size_float  \n",
       "893          0.5  \n",
       "656          4.0  \n",
       "176          1.0  \n",
       "101          2.0  \n",
       "1203         1.0  "
      ]
     },
     "execution_count": 63,
     "metadata": {},
     "output_type": "execute_result"
    }
   ],
   "source": [
    "print(skincare_df.shape)\n",
    "skincare_df.sample(5)"
   ]
  },
  {
   "cell_type": "code",
   "execution_count": 64,
   "id": "b0691cba",
   "metadata": {},
   "outputs": [],
   "source": [
    "#update v\n",
    "skincare_df.to_csv('skincare_products.csv', index = False)"
   ]
  },
  {
   "cell_type": "code",
   "execution_count": null,
   "id": "2aedad4a",
   "metadata": {},
   "outputs": [],
   "source": []
  }
 ],
 "metadata": {
  "kernelspec": {
   "display_name": "Python [conda env:metis] *",
   "language": "python",
   "name": "conda-env-metis-py"
  },
  "language_info": {
   "codemirror_mode": {
    "name": "ipython",
    "version": 3
   },
   "file_extension": ".py",
   "mimetype": "text/x-python",
   "name": "python",
   "nbconvert_exporter": "python",
   "pygments_lexer": "ipython3",
   "version": "3.9.10"
  }
 },
 "nbformat": 4,
 "nbformat_minor": 5
}
