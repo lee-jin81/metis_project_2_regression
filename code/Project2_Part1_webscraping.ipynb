{
 "cells": [
  {
   "cell_type": "markdown",
   "id": "6ad9aa63",
   "metadata": {},
   "source": [
    "# Retrieve data from webscraping"
   ]
  },
  {
   "cell_type": "code",
   "execution_count": 1,
   "id": "db4913cb",
   "metadata": {
    "scrolled": true
   },
   "outputs": [],
   "source": [
    "import requests, bs4\n",
    "from bs4 import BeautifulSoup as bs\n",
    "import time\n",
    "import random\n",
    "import pickle\n",
    "import pandas as pd"
   ]
  },
  {
   "cell_type": "markdown",
   "id": "84b18ccc",
   "metadata": {},
   "source": [
    "## Part 1: Retrieve soup by page"
   ]
  },
  {
   "cell_type": "markdown",
   "id": "9b30acd0",
   "metadata": {},
   "source": [
    "### 1. Retrieve page url from ulta.com\n",
    "\n",
    "#### About the page urls\n",
    "* Moisturizers category: 1350 results (04/06)\n",
    "* Pages total: 15\n",
    "* Products per page: 96 (except page 15)\n",
    "\n",
    "**Pattern as of 04/06**\n",
    "* page_1 = 'https://www.ulta.com/skin-care-moisturizers?N=2796'\n",
    "\n",
    "* page_2 = 'https://www.ulta.com/skin-care-moisturizers?N=2796&No=96&Nrpp=96'\n",
    "* page_3 = 'https://www.ulta.com/skin-care-moisturizers?N=2796&No=192&Nrpp=96'\n",
    "* page_4 = 'https://www.ulta.com/skin-care-moisturizers?N=2796&No=288&Nrpp=96'\n",
    "* page_15 = 'https://www.ulta.com/skin-care-moisturizers?N=2796&No=1344&Nrpp=96'"
   ]
  },
  {
   "cell_type": "markdown",
   "id": "cdf16113",
   "metadata": {},
   "source": [
    "#### Import functions"
   ]
  },
  {
   "cell_type": "code",
   "execution_count": 2,
   "id": "9af63141",
   "metadata": {
    "scrolled": true
   },
   "outputs": [],
   "source": [
    "# functions that I wrote for this project, see files\n",
    "import webscraping_functions as web\n",
    "\n",
    "from webscraping_functions import create_page_url, get_page_soup,\\\n",
    "create_product_url_list, get_products_page"
   ]
  },
  {
   "cell_type": "markdown",
   "id": "54a63ae1",
   "metadata": {},
   "source": [
    "### 1. url for each page number"
   ]
  },
  {
   "cell_type": "code",
   "execution_count": 3,
   "id": "9ed16114",
   "metadata": {
    "scrolled": true
   },
   "outputs": [],
   "source": [
    "# Get url for each page\n",
    "base_url = 'https://www.ulta.com/skin-care-moisturizers?N=2796'\n",
    "\n",
    "# returns a list of url of each page\n",
    "page_url_list = web.create_page_url(base_url) "
   ]
  },
  {
   "cell_type": "code",
   "execution_count": 4,
   "id": "0cd16b77",
   "metadata": {
    "scrolled": true
   },
   "outputs": [
    {
     "data": {
      "text/plain": [
       "15"
      ]
     },
     "execution_count": 4,
     "metadata": {},
     "output_type": "execute_result"
    }
   ],
   "source": [
    "# should be 15\n",
    "len(page_url_list)"
   ]
  },
  {
   "cell_type": "markdown",
   "id": "d2d1923e",
   "metadata": {},
   "source": [
    "### 2. Create url of each product"
   ]
  },
  {
   "cell_type": "markdown",
   "id": "fcce0154",
   "metadata": {},
   "source": [
    "Products on page 1\n",
    "\n",
    "https://www.ulta.com/p/confidence-in-a-cream-anti-aging-moisturizer-xlsImpprod13641053\n",
    "\n",
    "https://www.ulta.com/p/dramatically-different-moisturizing-lotion-xlsImpprod10791743"
   ]
  },
  {
   "cell_type": "code",
   "execution_count": null,
   "id": "794d5c19",
   "metadata": {
    "scrolled": true
   },
   "outputs": [],
   "source": [
    "pages_soup_list = web.get_page_soup(page_url_list)"
   ]
  },
  {
   "cell_type": "code",
   "execution_count": 11,
   "id": "42564248",
   "metadata": {
    "scrolled": true
   },
   "outputs": [
    {
     "data": {
      "text/plain": [
       "15"
      ]
     },
     "execution_count": 11,
     "metadata": {},
     "output_type": "execute_result"
    }
   ],
   "source": [
    "# should return 15 soups \n",
    "len(pages_soup_list)"
   ]
  },
  {
   "cell_type": "markdown",
   "id": "5a1b826f",
   "metadata": {},
   "source": [
    "### 3. Create url for all products"
   ]
  },
  {
   "cell_type": "code",
   "execution_count": 12,
   "id": "cd651616",
   "metadata": {
    "scrolled": true
   },
   "outputs": [],
   "source": [
    "products_url_list = web.create_product_url_list(pages_soup_list)"
   ]
  },
  {
   "cell_type": "code",
   "execution_count": 13,
   "id": "71ae9b07",
   "metadata": {
    "scrolled": true
   },
   "outputs": [
    {
     "data": {
      "text/plain": [
       "1353"
      ]
     },
     "execution_count": 13,
     "metadata": {},
     "output_type": "execute_result"
    }
   ],
   "source": [
    "# should return > 1300 url\n",
    "len(products_url_list)"
   ]
  },
  {
   "cell_type": "code",
   "execution_count": null,
   "id": "3b4d0cfb",
   "metadata": {
    "scrolled": true
   },
   "outputs": [],
   "source": [
    "#Save url list to a file \n",
    "# 'w' in write mode\n",
    "output_file = open('products_url.txt', 'w')\n",
    "\n",
    "for url in products_url_list:\n",
    "    output_file.write(url + '\\n')\n",
    "    \n",
    "output_file.close()"
   ]
  },
  {
   "cell_type": "markdown",
   "id": "d6a935f4",
   "metadata": {},
   "source": [
    "## 4. Scraping additional\n",
    "\n",
    "### a. Scrape global skincare page to identify non-domestic products"
   ]
  },
  {
   "cell_type": "code",
   "execution_count": 9,
   "id": "35850c52",
   "metadata": {
    "scrolled": true
   },
   "outputs": [],
   "source": [
    "global_list = ['https://www.ulta.com/global-skin-care?N=27ig',\n",
    "               'https://www.ulta.com/global-skin-care?N=27ig&No=96&Nrpp=96',\n",
    "              'https://www.ulta.com/global-skin-care?N=27ig&No=192&Nrpp=96',\n",
    "               'https://www.ulta.com/global-skin-care?N=27ig&No=288&Nrpp=96',\n",
    "               'https://www.ulta.com/global-skin-care?N=27ig&No=384&Nrpp=96',]"
   ]
  },
  {
   "cell_type": "code",
   "execution_count": null,
   "id": "31f96caa",
   "metadata": {
    "scrolled": true
   },
   "outputs": [],
   "source": [
    "# get page soup of each page\n",
    "def get_brands(soup_list):\n",
    "    my_list = []\n",
    "    for soup in soup_list:\n",
    "        titles_tag = soup.find_all('h4', class_=\"prod-title\")\n",
    "        for a in titles_tag:\n",
    "            a = a.text\n",
    "            a = a.replace('\\n\\n\\t\\t\\t\\t', \" \").replace('\\n',\" \").strip()\n",
    "            my_list.append(a)\n",
    "            \n",
    "        # eliminate duplicates \n",
    "        brands = set(my_list)\n",
    "    # return a list    \n",
    "    return list(brands)"
   ]
  },
  {
   "cell_type": "code",
   "execution_count": null,
   "id": "c811528e",
   "metadata": {
    "scrolled": true
   },
   "outputs": [],
   "source": [
    "global_brands = get_brands(global_soup)"
   ]
  },
  {
   "cell_type": "code",
   "execution_count": null,
   "id": "641c2172",
   "metadata": {
    "scrolled": true
   },
   "outputs": [],
   "source": [
    "# save as a pickle\n",
    "with open(\"global_brands.pickle\", \"wb\") as f:\n",
    "    pickle.dump(global_brands, f)"
   ]
  },
  {
   "cell_type": "code",
   "execution_count": null,
   "id": "a146506d",
   "metadata": {
    "scrolled": true
   },
   "outputs": [],
   "source": [
    "global_brands = pd.Series(global_brands_list)\n",
    "#save as a csv\n",
    "global_brands.to_csv('global_brands.csv', index=False)"
   ]
  },
  {
   "cell_type": "markdown",
   "id": "df58939f",
   "metadata": {},
   "source": [
    "## Face serums\n",
    "\n",
    "### a) First 2 pages\n",
    "\n",
    "* ~ 200 products in 6 pages"
   ]
  },
  {
   "cell_type": "code",
   "execution_count": 8,
   "id": "0ac1613c",
   "metadata": {
    "scrolled": true
   },
   "outputs": [],
   "source": [
    "url_face = ([\n",
    "    'https://www.ulta.com/skin-care-treatment-serums-face-serums?N=27he',\n",
    "    'https://www.ulta.com/skin-care-treatment-serums-face-serums?N=27he&No=96&Nrpp=96',\n",
    "    'https://www.ulta.com/skin-care-treatment-serums-face-serums?N=27he&No=192&Nrpp=96',\n",
    "    'https://www.ulta.com/skin-care-treatment-serums-face-serums?N=27he&No=288&Nrpp=96',\n",
    "    'https://www.ulta.com/skin-care-treatment-serums-face-serums?N=27he&No=384&Nrpp=96',\n",
    "    'https://www.ulta.com/skin-care-treatment-serums-face-serums?N=27he&No=480&Nrpp=96'\n",
    "])"
   ]
  },
  {
   "cell_type": "code",
   "execution_count": null,
   "id": "95b178d0",
   "metadata": {
    "scrolled": true
   },
   "outputs": [],
   "source": [
    "# get soup for each page number \n",
    "pages_soup_face = web.get_page_soup(url_face)"
   ]
  },
  {
   "cell_type": "code",
   "execution_count": 7,
   "id": "b403aa92",
   "metadata": {
    "scrolled": true
   },
   "outputs": [],
   "source": [
    "# get url of each product on a page\n",
    "face_url_list = web.create_product_url_list(pages_soup_face)"
   ]
  },
  {
   "cell_type": "code",
   "execution_count": null,
   "id": "e8127795",
   "metadata": {
    "scrolled": false
   },
   "outputs": [],
   "source": [
    "#print(web.get_products_page(face_url_list, 'face_page'))"
   ]
  },
  {
   "cell_type": "code",
   "execution_count": null,
   "id": "0bef4b71",
   "metadata": {
    "scrolled": true
   },
   "outputs": [],
   "source": [
    "#print(web.get_products_page(face_url_list[0:150], 'face_page2_150'))"
   ]
  },
  {
   "cell_type": "code",
   "execution_count": null,
   "id": "84d950a7",
   "metadata": {
    "scrolled": true
   },
   "outputs": [],
   "source": [
    "#print(web.get_products_page(face_url_list[150:300], 'face_page2_300'))"
   ]
  },
  {
   "cell_type": "code",
   "execution_count": null,
   "id": "30bf4597",
   "metadata": {
    "scrolled": true
   },
   "outputs": [],
   "source": [
    "#print(web.get_products_page(face_url_list[300:], 'face_page2_end'))"
   ]
  },
  {
   "cell_type": "markdown",
   "id": "9ece2a55",
   "metadata": {},
   "source": [
    "## Part 2: Retrieve soup for each product"
   ]
  },
  {
   "cell_type": "code",
   "execution_count": 17,
   "id": "fb4db468",
   "metadata": {
    "scrolled": true
   },
   "outputs": [
    {
     "name": "stdout",
     "output_type": "stream",
     "text": [
      "Progress 0\n",
      "Progress 1\n"
     ]
    }
   ],
   "source": [
    "# Do this for the entire list\n",
    "# test case\n",
    "list_1 = web.get_products_page(products_url_list[0:2], 'test')"
   ]
  },
  {
   "cell_type": "code",
   "execution_count": null,
   "id": "ee5c4eb2",
   "metadata": {
    "scrolled": true
   },
   "outputs": [],
   "source": [
    "# Get 200\n",
    "#print(get_products_page(products_url_list[0:200], 'Number_1_200'))"
   ]
  },
  {
   "cell_type": "code",
   "execution_count": null,
   "id": "ff1f30d6",
   "metadata": {
    "scrolled": true
   },
   "outputs": [],
   "source": [
    "# Get 200\n",
    "#print(get_products_page(products_url_list[200:400], 'Number_201_400')"
   ]
  },
  {
   "cell_type": "code",
   "execution_count": null,
   "id": "5ac7c126",
   "metadata": {
    "scrolled": true
   },
   "outputs": [],
   "source": [
    "#Get 600\n",
    "#print(get_products_page(products_url_list[400:1000], 'Number_401_1000'))"
   ]
  },
  {
   "cell_type": "code",
   "execution_count": null,
   "id": "7dc9a198",
   "metadata": {
    "scrolled": true
   },
   "outputs": [],
   "source": [
    "# get rest - 350\n",
    "# update requests to 150 and sleep after 5 min\n",
    "#print(get_products_page(products_url_list[1001:], 'Number_1001_end'))"
   ]
  },
  {
   "cell_type": "code",
   "execution_count": null,
   "id": "4f756fdf",
   "metadata": {
    "scrolled": true
   },
   "outputs": [],
   "source": []
  }
 ],
 "metadata": {
  "kernelspec": {
   "display_name": "Python [conda env:metis] *",
   "language": "python",
   "name": "conda-env-metis-py"
  },
  "language_info": {
   "codemirror_mode": {
    "name": "ipython",
    "version": 3
   },
   "file_extension": ".py",
   "mimetype": "text/x-python",
   "name": "python",
   "nbconvert_exporter": "python",
   "pygments_lexer": "ipython3",
   "version": "3.9.10"
  }
 },
 "nbformat": 4,
 "nbformat_minor": 5
}
